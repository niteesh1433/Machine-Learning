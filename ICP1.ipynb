{
  "nbformat": 4,
  "nbformat_minor": 0,
  "metadata": {
    "colab": {
      "provenance": []
    },
    "kernelspec": {
      "name": "python3",
      "display_name": "Python 3"
    },
    "language_info": {
      "name": "python"
    }
  },
  "cells": [
    {
      "cell_type": "code",
      "execution_count": 1,
      "metadata": {
        "colab": {
          "base_uri": "https://localhost:8080/"
        },
        "id": "cNGVFzj2_Xus",
        "outputId": "be3615fb-2ff8-4cbf-c352-b1d54d847547"
      },
      "outputs": [
        {
          "output_type": "stream",
          "name": "stdout",
          "text": [
            "pgm1\n",
            "Min age: 19\n",
            "Max age: 26\n",
            "Median age: 24.0\n",
            "Average age: 22.75\n",
            "Age range: 7\n"
          ]
        }
      ],
      "source": [
        "print(\"pgm1\")\n",
        "ages = [19, 22, 19, 24, 20, 25, 26, 24, 25, 24]\n",
        "sorted_ages = sorted(ages)\n",
        "min_age = sorted_ages[0]\n",
        "max_age = sorted_ages[-1]\n",
        "\n",
        "ages.extend([min_age, max_age])\n",
        "sorted_ages = sorted(ages)\n",
        "n = len(sorted_ages)\n",
        "if n % 2 == 0:\n",
        "    median_age = (sorted_ages[n//2 - 1] + sorted_ages[n//2]) / 2\n",
        "else:\n",
        "    median_age = sorted_ages[n//2]\n",
        "average_age = sum(sorted_ages) / n\n",
        "age_range = max_age - min_age\n",
        "(min_age, max_age, median_age, average_age, age_range)\n",
        "print(\"Min age:\", min_age)\n",
        "print(\"Max age:\", max_age)\n",
        "print(\"Median age:\", median_age)\n",
        "print(\"Average age:\", average_age)\n",
        "print(\"Age range:\", age_range)"
      ]
    },
    {
      "cell_type": "code",
      "source": [
        "print(\"pgm2\")\n",
        "dog = {}\n",
        "dog['name'] = 'Tusk'\n",
        "dog['color'] = 'white'\n",
        "dog['breed'] = 'Shih Tzu'\n",
        "dog['legs'] = 4\n",
        "dog['age'] = 5\n",
        "student = {\n",
        "    'first_name': 'Niteesh',\n",
        "    'last_name': 'Pujari',\n",
        "    'gender': 'Male',\n",
        "    'age': 20,\n",
        "    'marital_status': 'Single',\n",
        "    'skills': ['Python', 'C#', 'Java'],\n",
        "    'country': 'USA',\n",
        "    'city': 'Overland park',\n",
        "    'address': '13831 Fairways'\n",
        "}\n",
        "student_length = len(student)\n",
        "skills = student['skills']\n",
        "skills_type = type(skills)\n",
        "student['skills'].extend(['Machine Learning', 'Deep Learning'])\n",
        "student_keys = list(student.keys())\n",
        "student_values = list(student.values())\n",
        "print(\"Dog dictionary:\", dog)\n",
        "print(\"Student dictionary:\", student)\n",
        "print(\"Length of student dictionary:\", student_length)\n",
        "print(\"Skills:\", skills)\n",
        "print(\"Type of skills:\", skills_type)\n",
        "print(\"Student keys:\", student_keys)\n",
        "print(\"Student values:\", student_values)\n"
      ],
      "metadata": {
        "colab": {
          "base_uri": "https://localhost:8080/"
        },
        "id": "pV6sDlWy_-kh",
        "outputId": "6352ecb0-590b-4651-af6f-62d7405edfd5"
      },
      "execution_count": 2,
      "outputs": [
        {
          "output_type": "stream",
          "name": "stdout",
          "text": [
            "pgm2\n",
            "Dog dictionary: {'name': 'Tusk', 'color': 'white', 'breed': 'Shih Tzu', 'legs': 4, 'age': 5}\n",
            "Student dictionary: {'first_name': 'Niteesh', 'last_name': 'Pujari', 'gender': 'Male', 'age': 20, 'marital_status': 'Single', 'skills': ['Python', 'C#', 'Java', 'Machine Learning', 'Deep Learning'], 'country': 'USA', 'city': 'Overland park', 'address': '13831 Fairways'}\n",
            "Length of student dictionary: 9\n",
            "Skills: ['Python', 'C#', 'Java', 'Machine Learning', 'Deep Learning']\n",
            "Type of skills: <class 'list'>\n",
            "Student keys: ['first_name', 'last_name', 'gender', 'age', 'marital_status', 'skills', 'country', 'city', 'address']\n",
            "Student values: ['Niteesh', 'Pujari', 'Male', 20, 'Single', ['Python', 'C#', 'Java', 'Machine Learning', 'Deep Learning'], 'USA', 'Overland park', '13831 Fairways']\n"
          ]
        }
      ]
    },
    {
      "cell_type": "code",
      "source": [
        "print(\"pgm3\")\n",
        "sisters = (\"Anitha\", \"Prathyu\", \"Hani\")\n",
        "brothers = (\"Anudeep\", \"Thejdeep\", \"Saideep\")\n",
        "siblings = sisters + brothers\n",
        "num_siblings = len(siblings)\n",
        "parents = (\"Father\", \"Mother\")\n",
        "family_members = siblings + parents\n",
        "\n",
        "print(\"Sisters:\", sisters)\n",
        "print(\"Brothers:\", brothers)\n",
        "print(\"Siblings:\", siblings)\n",
        "print(\"Number of siblings:\", num_siblings)\n",
        "print(\"Family members:\", family_members)"
      ],
      "metadata": {
        "colab": {
          "base_uri": "https://localhost:8080/"
        },
        "id": "jrkP_MHLAQNy",
        "outputId": "8b8eafb0-552d-4a02-b4d8-9e0d6438ad2e"
      },
      "execution_count": 3,
      "outputs": [
        {
          "output_type": "stream",
          "name": "stdout",
          "text": [
            "pgm3\n",
            "Sisters: ('Anitha', 'Prathyu', 'Hani')\n",
            "Brothers: ('Anudeep', 'Thejdeep', 'Saideep')\n",
            "Siblings: ('Anitha', 'Prathyu', 'Hani', 'Anudeep', 'Thejdeep', 'Saideep')\n",
            "Number of siblings: 6\n",
            "Family members: ('Anitha', 'Prathyu', 'Hani', 'Anudeep', 'Thejdeep', 'Saideep', 'Father', 'Mother')\n"
          ]
        }
      ]
    },
    {
      "cell_type": "code",
      "source": [
        "it_companies = {'Facebook', 'Google', 'Microsoft', 'Apple', 'IBM', 'Oracle', 'Amazon'}\n",
        "A = {19, 22, 24, 20, 25, 26}\n",
        "B = {19, 22, 20, 25, 26, 24, 28, 27}\n",
        "age = [22, 19, 24, 25, 26, 24, 25, 24]\n",
        "\n",
        "length_it_companies = len(it_companies)\n",
        "print(\"Length of it_companies:\", length_it_companies)\n",
        "it_companies.add('Twitter')\n",
        "print(\"it_companies after adding 'Twitter':\", it_companies)\n",
        "it_companies.update(['Adobe', 'Salesforce', 'Netflix'])\n",
        "print(\"it_companies after adding multiple companies:\", it_companies)\n",
        "it_companies.remove('Adobe')\n",
        "print(\"it_companies after removing 'Adobe':\", it_companies)\n",
        "A_union_B = A.union(B)\n",
        "print(\"A union B:\", A_union_B)\n",
        "A_intersection_B = A.intersection(B)\n",
        "print(\"A intersection B:\", A_intersection_B)\n",
        "is_A_subset_B = A.issubset(B)\n",
        "print(\"Is A subset of B:\", is_A_subset_B)\n",
        "are_A_B_disjoint = A.isdisjoint(B)\n",
        "print(\"Are A and B disjoint:\", are_A_B_disjoint)\n",
        "A_join_B = A.union(B)\n",
        "B_join_A = B.union(A)\n",
        "print(\"A join B:\", A_join_B)\n",
        "print(\"B join A:\", B_join_A)\n",
        "A_symmetric_difference_B = A.symmetric_difference(B)\n",
        "print(\"A symmetric difference B:\", A_symmetric_difference_B)\n",
        "del A\n",
        "del B\n",
        "print(\"Sets A and B deleted.\")\n",
        "age = [22, 19, 24, 25, 26, 24, 25, 24]\n",
        "age_set = set(age)\n",
        "length_age_list = len(age)\n",
        "length_age_set = len(age_set)\n",
        "print(\"Length of age list:\", length_age_list)\n",
        "print(\"Length of age set:\", length_age_set)"
      ],
      "metadata": {
        "colab": {
          "base_uri": "https://localhost:8080/"
        },
        "id": "ZP9SU4OeAab5",
        "outputId": "583dd956-d90f-4147-9c17-24fcda6b645c"
      },
      "execution_count": 4,
      "outputs": [
        {
          "output_type": "stream",
          "name": "stdout",
          "text": [
            "Length of it_companies: 7\n",
            "it_companies after adding 'Twitter': {'IBM', 'Facebook', 'Oracle', 'Microsoft', 'Apple', 'Amazon', 'Google', 'Twitter'}\n",
            "it_companies after adding multiple companies: {'Amazon', 'Netflix', 'IBM', 'Adobe', 'Oracle', 'Microsoft', 'Google', 'Twitter', 'Facebook', 'Apple', 'Salesforce'}\n",
            "it_companies after removing 'Adobe': {'Amazon', 'Netflix', 'IBM', 'Oracle', 'Microsoft', 'Google', 'Twitter', 'Facebook', 'Apple', 'Salesforce'}\n",
            "A union B: {19, 20, 22, 24, 25, 26, 27, 28}\n",
            "A intersection B: {19, 20, 22, 24, 25, 26}\n",
            "Is A subset of B: True\n",
            "Are A and B disjoint: False\n",
            "A join B: {19, 20, 22, 24, 25, 26, 27, 28}\n",
            "B join A: {19, 20, 22, 24, 25, 26, 27, 28}\n",
            "A symmetric difference B: {27, 28}\n",
            "Sets A and B deleted.\n",
            "Length of age list: 8\n",
            "Length of age set: 5\n"
          ]
        }
      ]
    },
    {
      "cell_type": "code",
      "source": [
        "print(\"pgm5\")\n",
        "import math\n",
        "radius = 30\n",
        "_area_of_circle_ = math.pi * radius ** 2\n",
        "print(\"Area of the circle:\", _area_of_circle_)\n",
        "_circum_of_circle_ = 2 * math.pi * radius\n",
        "print(\"Circumference of the circle:\", _circum_of_circle_)\n",
        "user_radius = float(input(\"Enter the radius of the circle: \"))\n",
        "user_area_of_circle = math.pi * user_radius ** 2\n",
        "print(\"Area of the circle with radius\", user_radius, \"is:\", user_area_of_circle)\n"
      ],
      "metadata": {
        "colab": {
          "base_uri": "https://localhost:8080/"
        },
        "id": "_hVzxPUtAhyd",
        "outputId": "068e6147-644f-4541-814e-c0feec1836b7"
      },
      "execution_count": 5,
      "outputs": [
        {
          "output_type": "stream",
          "name": "stdout",
          "text": [
            "pgm5\n",
            "Area of the circle: 2827.4333882308138\n",
            "Circumference of the circle: 188.49555921538757\n",
            "Enter the radius of the circle: 10\n",
            "Area of the circle with radius 10.0 is: 314.1592653589793\n"
          ]
        }
      ]
    },
    {
      "cell_type": "code",
      "source": [
        "print(\"pgm6\")\n",
        "sentence = \"I am a teacher and I love to inspire and teach people\"\n",
        "words = sentence.split()\n",
        "unique_words = set(words)\n",
        "num_unique_words = len(unique_words)\n",
        "print(\"Number of unique words:\", num_unique_words)\n",
        "print(\"Unique words:\", unique_words)\n"
      ],
      "metadata": {
        "colab": {
          "base_uri": "https://localhost:8080/"
        },
        "id": "Q92s161cBEuq",
        "outputId": "d0f7df47-eb09-4ef7-e2fb-46f0830d3f3e"
      },
      "execution_count": 6,
      "outputs": [
        {
          "output_type": "stream",
          "name": "stdout",
          "text": [
            "pgm6\n",
            "Number of unique words: 10\n",
            "Unique words: {'I', 'love', 'and', 'inspire', 'teach', 'people', 'a', 'to', 'teacher', 'am'}\n"
          ]
        }
      ]
    },
    {
      "cell_type": "code",
      "source": [
        "print(\"pgm7\")\n",
        "\n",
        "print(\"Name\\tAge\\tCountry\\tCity\")\n",
        "print(\"Asabeneh\\t250\\tFinland\\tHelsinki\")"
      ],
      "metadata": {
        "colab": {
          "base_uri": "https://localhost:8080/"
        },
        "id": "F5RRsH_gBHbZ",
        "outputId": "26428406-fb43-4235-e4f1-a64c8f04d68e"
      },
      "execution_count": 8,
      "outputs": [
        {
          "output_type": "stream",
          "name": "stdout",
          "text": [
            "pgm7\n",
            "Name\tAge\tCountry\tCity\n",
            "Asabeneh\t250\tFinland\tHelsinki\n"
          ]
        }
      ]
    },
    {
      "cell_type": "code",
      "source": [
        "print(\"pgm8\")\n",
        "\n",
        "radius = 10\n",
        "area = 3.14 * radius ** 2\n",
        "message = f\"The area of a circle with radius {radius} is {area} meters square.\"\n",
        "print(message)"
      ],
      "metadata": {
        "colab": {
          "base_uri": "https://localhost:8080/"
        },
        "id": "L4gSpVHwBZoz",
        "outputId": "319d08ed-1a32-4c73-dda8-93d847b17dba"
      },
      "execution_count": 10,
      "outputs": [
        {
          "output_type": "stream",
          "name": "stdout",
          "text": [
            "pgm8\n",
            "The area of a circle with radius 10 is 314.0 meters square.\n"
          ]
        }
      ]
    },
    {
      "cell_type": "code",
      "source": [
        "print(\"pgm9\")\n",
        "\n",
        "conversion_factor = 0.4535923\n",
        "N = int(input(\"Enter the number of students: \"))\n",
        "weights_lbs = []\n",
        "for i in range(N):\n",
        "    weight = float(input(f\"Enter the weight of student {i+1} in pounds: \"))\n",
        "    weights_lbs.append(weight)\n",
        "weights_kg = []\n",
        "for weight in weights_lbs:\n",
        "    weight_kg = round(weight * conversion_factor, 2)\n",
        "    weights_kg.append(weight_kg)\n",
        "\n",
        "print(\"Weights in kilograms:\", weights_kg)"
      ],
      "metadata": {
        "colab": {
          "base_uri": "https://localhost:8080/"
        },
        "id": "nmZarifaBg7B",
        "outputId": "deccb4c8-498a-4286-a699-6557186e51f7"
      },
      "execution_count": 12,
      "outputs": [
        {
          "output_type": "stream",
          "name": "stdout",
          "text": [
            "pgm9\n",
            "Enter the number of students: 3\n",
            "Enter the weight of student 1 in pounds: 100\n",
            "Enter the weight of student 2 in pounds: 200\n",
            "Enter the weight of student 3 in pounds: 300\n",
            "Weights in kilograms: [45.36, 90.72, 136.08]\n"
          ]
        }
      ]
    }
  ]
}