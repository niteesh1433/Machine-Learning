{
  "nbformat": 4,
  "nbformat_minor": 0,
  "metadata": {
    "colab": {
      "provenance": []
    },
    "kernelspec": {
      "name": "python3",
      "display_name": "Python 3"
    },
    "language_info": {
      "name": "python"
    }
  },
  "cells": [
    {
      "cell_type": "code",
      "execution_count": 1,
      "metadata": {
        "colab": {
          "base_uri": "https://localhost:8080/"
        },
        "id": "0XOrqiUbj8pk",
        "outputId": "446ac17c-e134-4ac3-db35-d4c0f1970544"
      },
      "outputs": [
        {
          "output_type": "stream",
          "name": "stdout",
          "text": [
            "Random vector: [ 2 17 16  8 20  2 19 15 19 11 12 10  6 19 19]\n",
            "Reshaped array:\n",
            " [[ 2 17 16  8 20]\n",
            " [ 2 19 15 19 11]\n",
            " [12 10  6 19 19]]\n",
            "Array shape: (3, 5)\n",
            "Array after replacing max in each row by 0:\n",
            " [[ 2 17 16  8  0]\n",
            " [ 2  0 15 19 11]\n",
            " [12 10  6  0 19]]\n",
            "2D array:\n",
            " [[0 0 0]\n",
            " [0 0 0]\n",
            " [0 0 0]\n",
            " [0 0 0]]\n",
            "Shape of the array: (4, 3)\n",
            "Type of the array: <class 'numpy.ndarray'>\n",
            "Data type of the array: int32\n"
          ]
        }
      ],
      "source": [
        "import numpy as np\n",
        "\n",
        "random_vector = np.random.randint(1, 21, size=15)\n",
        "print(\"Random vector:\", random_vector)\n",
        "\n",
        "reshaped_array = random_vector.reshape(3, 5)\n",
        "print(\"Reshaped array:\\n\", reshaped_array)\n",
        "\n",
        "print(\"Array shape:\", reshaped_array.shape)\n",
        "\n",
        "for i in range(reshaped_array.shape[0]):\n",
        "    max_index = np.argmax(reshaped_array[i])\n",
        "    reshaped_array[i, max_index] = 0\n",
        "print(\"Array after replacing max in each row by 0:\\n\", reshaped_array)\n",
        "\n",
        "array_2d = np.zeros((4, 3), dtype=np.int32)\n",
        "print(\"2D array:\\n\", array_2d)\n",
        "print(\"Shape of the array:\", array_2d.shape)\n",
        "print(\"Type of the array:\", type(array_2d))\n",
        "print(\"Data type of the array:\", array_2d.dtype)\n"
      ]
    },
    {
      "cell_type": "code",
      "source": [
        "import numpy as np\n",
        "A = np.array([[3, -2],\n",
        "              [1,  0]])\n",
        "eigenvalues, eigenvectors = np.linalg.eig(A)\n",
        "print(\"Eigenvalues:\", eigenvalues)\n",
        "print(\"Right eigenvectors:\\n\", eigenvectors)\n"
      ],
      "metadata": {
        "colab": {
          "base_uri": "https://localhost:8080/"
        },
        "id": "rkgHd7xokIQY",
        "outputId": "be3cf37a-bc88-43d2-f459-d02da13f989c"
      },
      "execution_count": 2,
      "outputs": [
        {
          "output_type": "stream",
          "name": "stdout",
          "text": [
            "Eigenvalues: [2. 1.]\n",
            "Right eigenvectors:\n",
            " [[0.89442719 0.70710678]\n",
            " [0.4472136  0.70710678]]\n"
          ]
        }
      ]
    },
    {
      "cell_type": "code",
      "source": [
        "import numpy as np\n",
        "array = np.array([[0, 1, 2],\n",
        "                  [3, 4, 5]])\n",
        "diagonal_sum = np.trace(array)\n",
        "print(\"Sum of diagonal elements:\", diagonal_sum)\n"
      ],
      "metadata": {
        "colab": {
          "base_uri": "https://localhost:8080/"
        },
        "id": "Sx92_vmOkpS-",
        "outputId": "7be3762f-3908-47d8-cd89-c45fdfefe7a2"
      },
      "execution_count": 3,
      "outputs": [
        {
          "output_type": "stream",
          "name": "stdout",
          "text": [
            "Sum of diagonal elements: 4\n"
          ]
        }
      ]
    },
    {
      "cell_type": "code",
      "source": [
        "import numpy as np\n",
        "array1 = np.array([[1, 2],\n",
        "                   [3, 4],\n",
        "                   [5, 6]])\n",
        "reshaped_array1 = array1.reshape(3, 2)\n",
        "print(\"Reshape 3x2:\")\n",
        "print(reshaped_array1)\n",
        "print()\n",
        "array2 = np.array([[1, 2, 3],\n",
        "                   [4, 5, 6]])\n",
        "reshaped_array2 = array2.reshape(2, 3)\n",
        "print(\"Reshape 2x3:\")\n",
        "print(reshaped_array2)\n"
      ],
      "metadata": {
        "colab": {
          "base_uri": "https://localhost:8080/"
        },
        "id": "CP6xAgJylTbx",
        "outputId": "7b754755-a5b5-44bf-917b-042a7a610bee"
      },
      "execution_count": 4,
      "outputs": [
        {
          "output_type": "stream",
          "name": "stdout",
          "text": [
            "Reshape 3x2:\n",
            "[[1 2]\n",
            " [3 4]\n",
            " [5 6]]\n",
            "\n",
            "Reshape 2x3:\n",
            "[[1 2 3]\n",
            " [4 5 6]]\n"
          ]
        }
      ]
    }
  ]
}