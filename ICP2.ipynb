{
  "nbformat": 4,
  "nbformat_minor": 0,
  "metadata": {
    "colab": {
      "provenance": []
    },
    "kernelspec": {
      "name": "python3",
      "display_name": "Python 3"
    },
    "language_info": {
      "name": "python"
    }
  },
  "cells": [
    {
      "cell_type": "code",
      "execution_count": 1,
      "metadata": {
        "colab": {
          "base_uri": "https://localhost:8080/"
        },
        "id": "PisYME3bbx_5",
        "outputId": "1cca466f-ff6b-4755-f164-b7ebec86e778"
      },
      "outputs": [
        {
          "output_type": "stream",
          "name": "stdout",
          "text": [
            "*\n",
            "**\n",
            "***\n",
            "****\n",
            "*****\n",
            "******\n",
            "*****\n",
            "****\n",
            "***\n",
            "**\n",
            "*\n"
          ]
        }
      ],
      "source": [
        "def left_pascals_triangle(rows):\n",
        "    for i in range(1, rows + 1):\n",
        "        for j in range(i):\n",
        "            print(\"*\", end=\"\")\n",
        "        print()\n",
        "    for i in range(rows - 1, 0, -1):\n",
        "        for j in range(i):\n",
        "            print(\"*\", end=\"\")\n",
        "        print()\n",
        "rows = 6\n",
        "left_pascals_triangle(rows)"
      ]
    },
    {
      "cell_type": "code",
      "source": [
        "my_list = [10, 20, 30, 40, 50, 60, 70, 80, 90, 100]\n",
        "for i in range(len(my_list)):\n",
        "    if i % 2 != 0:\n",
        "        print(my_list[i])"
      ],
      "metadata": {
        "colab": {
          "base_uri": "https://localhost:8080/"
        },
        "id": "gT4dM_WDb9kP",
        "outputId": "c8db0d20-2ce7-4a0a-8230-59a6d32ff679"
      },
      "execution_count": 2,
      "outputs": [
        {
          "output_type": "stream",
          "name": "stdout",
          "text": [
            "20\n",
            "40\n",
            "60\n",
            "80\n",
            "100\n"
          ]
        }
      ]
    },
    {
      "cell_type": "code",
      "source": [
        "x = [23, 'Python', 23.98]\n",
        "types_list = []\n",
        "for element in x:\n",
        "    types_list.append(type(element))\n",
        "print(x)\n",
        "print(types_list)"
      ],
      "metadata": {
        "colab": {
          "base_uri": "https://localhost:8080/"
        },
        "id": "rGvc9vjucEic",
        "outputId": "38702f8e-e3d3-4285-a2e8-93bea29f0f03"
      },
      "execution_count": 3,
      "outputs": [
        {
          "output_type": "stream",
          "name": "stdout",
          "text": [
            "[23, 'Python', 23.98]\n",
            "[<class 'int'>, <class 'str'>, <class 'float'>]\n"
          ]
        }
      ]
    },
    {
      "cell_type": "code",
      "source": [
        "def get_unique_items(input_list):\n",
        "    unique_set = set(input_list)\n",
        "    unique_list = list(unique_set)\n",
        "    return unique_list\n",
        "sample_list = [1, 2, 3, 3, 3, 3, 4, 5]\n",
        "unique_list = get_unique_items(sample_list)\n",
        "print(\"Sample List:\", sample_list)\n",
        "print(\"Unique List:\", unique_list)"
      ],
      "metadata": {
        "colab": {
          "base_uri": "https://localhost:8080/"
        },
        "id": "NF_hb1b6cLRC",
        "outputId": "c8e682d4-9a4b-498e-9247-bad7619b0d4a"
      },
      "execution_count": 4,
      "outputs": [
        {
          "output_type": "stream",
          "name": "stdout",
          "text": [
            "Sample List: [1, 2, 3, 3, 3, 3, 4, 5]\n",
            "Unique List: [1, 2, 3, 4, 5]\n"
          ]
        }
      ]
    },
    {
      "cell_type": "code",
      "source": [
        "def count_upper_lower(input_string):\n",
        "    upper_count = 0\n",
        "    lower_count = 0\n",
        "\n",
        "    for char in input_string:\n",
        "        if char.isupper():\n",
        "            upper_count += 1\n",
        "        elif char.islower():\n",
        "            lower_count += 1\n",
        "\n",
        "    return upper_count, lower_count\n",
        "input_string = 'The quick Brow Fox'\n",
        "upper_count, lower_count = count_upper_lower(input_string)\n",
        "print(\"No. of Upper-case characters:\", upper_count)\n",
        "print(\"No. of Lower-case Characters:\", lower_count)\n"
      ],
      "metadata": {
        "colab": {
          "base_uri": "https://localhost:8080/"
        },
        "id": "XF0PtvMUcRwg",
        "outputId": "e52b311e-73d9-4211-8559-08d645984ccc"
      },
      "execution_count": 5,
      "outputs": [
        {
          "output_type": "stream",
          "name": "stdout",
          "text": [
            "No. of Upper-case characters: 3\n",
            "No. of Lower-case Characters: 12\n"
          ]
        }
      ]
    }
  ]
}